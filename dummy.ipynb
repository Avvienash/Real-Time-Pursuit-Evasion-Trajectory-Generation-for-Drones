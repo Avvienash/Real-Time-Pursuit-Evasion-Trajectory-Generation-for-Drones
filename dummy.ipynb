{
 "cells": [
  {
   "cell_type": "code",
   "execution_count": 1,
   "metadata": {},
   "outputs": [
    {
     "name": "stdout",
     "output_type": "stream",
     "text": [
      "tensor([[ 0.0512,  0.4105,  0.5150, -1.3457],\n",
      "        [ 0.6127, -0.7632, -1.1463, -0.0939],\n",
      "        [ 0.2246,  1.5799,  2.7649,  0.4309]])\n"
     ]
    }
   ],
   "source": [
    "import torch\n",
    "\n",
    "# Specify the dimensionality of the random tensor\n",
    "dim = (3, 4)  # Example: a 3x4 matrix\n",
    "\n",
    "# Generate random numbers from a normal distribution\n",
    "random_tensor = torch.randn(dim)\n",
    "\n",
    "print(random_tensor)\n"
   ]
  }
 ],
 "metadata": {
  "kernelspec": {
   "display_name": "my_pytorch_env",
   "language": "python",
   "name": "python3"
  },
  "language_info": {
   "codemirror_mode": {
    "name": "ipython",
    "version": 3
   },
   "file_extension": ".py",
   "mimetype": "text/x-python",
   "name": "python",
   "nbconvert_exporter": "python",
   "pygments_lexer": "ipython3",
   "version": "3.11.4"
  }
 },
 "nbformat": 4,
 "nbformat_minor": 2
}
